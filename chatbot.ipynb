{
  "nbformat": 4,
  "nbformat_minor": 0,
  "metadata": {
    "colab": {
      "provenance": [],
      "authorship_tag": "ABX9TyPbOKVn+dw5egExLr+ntmxz",
      "include_colab_link": true
    },
    "kernelspec": {
      "name": "python3",
      "display_name": "Python 3"
    },
    "language_info": {
      "name": "python"
    }
  },
  "cells": [
    {
      "cell_type": "markdown",
      "metadata": {
        "id": "view-in-github",
        "colab_type": "text"
      },
      "source": [
        "<a href=\"https://colab.research.google.com/github/Sedacoder/NLP/blob/main/chatbot.ipynb\" target=\"_parent\"><img src=\"https://colab.research.google.com/assets/colab-badge.svg\" alt=\"Open In Colab\"/></a>"
      ]
    },
    {
      "cell_type": "code",
      "execution_count": 9,
      "metadata": {
        "colab": {
          "base_uri": "https://localhost:8080/"
        },
        "id": "PMtiNkt-bG-3",
        "outputId": "99770ec1-a9f9-4b9e-f86f-d1e9ce54d185"
      },
      "outputs": [
        {
          "output_type": "stream",
          "name": "stdout",
          "text": [
            "Hello there. \n",
            "I am Sean, a conversational bot.\n",
            "I am thrilled to meet you and get to know you.\n",
            "Feel free to end the conversation at any time by typing 'bye' .\n",
            "Let's talk!\n",
            "User: Hey\n",
            "What is your favorite food?\n",
            "User: ugali\n",
            "What is your favorite food?\n",
            "User: bye\n",
            "Goodbye. Have a great day\n",
            "It was nice talking to you. Goodbye!\n"
          ]
        }
      ],
      "source": [
        "import random\n",
        "#Will enable my bot to select a random response among the ones I will give it.\n",
        "\n",
        "random_responses = [\"Hello there. My name is Sean. What's yours?\",\n",
        "                    \"How old are you?\",\n",
        "                    \"What do you like doing?\",\n",
        "                    \"What do you hate doing?\",\n",
        "                    \"What is your favorite food?\"]\n",
        "#The responses that will be given.\n",
        "#Intro\n",
        "print(\"Hello there. \")\n",
        "print(\"I am Sean, a conversational bot.\")\n",
        "print(\"I am thrilled to meet you and get to know you.\")\n",
        "print(\"Feel free to end the conversation at any time by typing 'bye' .\")\n",
        "print(\"Let's talk!\")\n",
        "\n",
        "while True:\n",
        "  #USER INPUT\n",
        "  user_inp = input(\"User: \")\n",
        "  if user_inp.lower() == \"bye\":\n",
        "    print(\"Goodbye. Have a great day\")\n",
        "    break\n",
        "  else:\n",
        "    response = random.choices(random_responses)[0]\n",
        "    print(response)\n",
        "\n",
        "print(\"It was nice talking to you. Goodbye!\")"
      ]
    },
    {
      "cell_type": "code",
      "source": [],
      "metadata": {
        "id": "PNq-TaZcTDbc"
      },
      "execution_count": 9,
      "outputs": []
    },
    {
      "cell_type": "code",
      "source": [
        "!pip install -U textblob\n",
        "!python -m textblob.download_corpora\n"
      ],
      "metadata": {
        "id": "Xl5AREYmfBK2",
        "outputId": "e67ae959-c360-4bc4-f2cc-2da5e2b2346d",
        "colab": {
          "base_uri": "https://localhost:8080/"
        }
      },
      "execution_count": 12,
      "outputs": [
        {
          "output_type": "stream",
          "name": "stdout",
          "text": [
            "Requirement already satisfied: textblob in /usr/local/lib/python3.10/dist-packages (0.18.0.post0)\n",
            "Requirement already satisfied: nltk>=3.8 in /usr/local/lib/python3.10/dist-packages (from textblob) (3.8.1)\n",
            "Requirement already satisfied: click in /usr/local/lib/python3.10/dist-packages (from nltk>=3.8->textblob) (8.1.7)\n",
            "Requirement already satisfied: joblib in /usr/local/lib/python3.10/dist-packages (from nltk>=3.8->textblob) (1.4.0)\n",
            "Requirement already satisfied: regex>=2021.8.3 in /usr/local/lib/python3.10/dist-packages (from nltk>=3.8->textblob) (2023.12.25)\n",
            "Requirement already satisfied: tqdm in /usr/local/lib/python3.10/dist-packages (from nltk>=3.8->textblob) (4.66.2)\n",
            "[nltk_data] Downloading package brown to /root/nltk_data...\n",
            "[nltk_data]   Package brown is already up-to-date!\n",
            "[nltk_data] Downloading package punkt to /root/nltk_data...\n",
            "[nltk_data]   Package punkt is already up-to-date!\n",
            "[nltk_data] Downloading package wordnet to /root/nltk_data...\n",
            "[nltk_data]   Package wordnet is already up-to-date!\n",
            "[nltk_data] Downloading package averaged_perceptron_tagger to\n",
            "[nltk_data]     /root/nltk_data...\n",
            "[nltk_data]   Package averaged_perceptron_tagger is already up-to-\n",
            "[nltk_data]       date!\n",
            "[nltk_data] Downloading package conll2000 to /root/nltk_data...\n",
            "[nltk_data]   Package conll2000 is already up-to-date!\n",
            "[nltk_data] Downloading package movie_reviews to /root/nltk_data...\n",
            "[nltk_data]   Package movie_reviews is already up-to-date!\n",
            "Finished.\n"
          ]
        }
      ]
    },
    {
      "cell_type": "code",
      "source": [
        "import random\n",
        "from textblob import TextBlob\n",
        "from textblob.np_extractors import ConllExtractor\n",
        "extractor = ConllExtractor()\n",
        "#Intro\n",
        "def begin():\n",
        "    print(\"Hello there. \")\n",
        "    print(\"I am Sean, a conversational bot.\")\n",
        "    print(\"I am thrilled to meet you and get to know you.\")\n",
        "    print(\"Feel free to end the conversation at any time by typing 'bye' .\")\n",
        "    print(\"Hello there. How are you today?\")\n",
        "\n",
        "    while True:\n",
        "      #USER INPUT\n",
        "      user_inp = input(\"User: \")\n",
        "      if user_inp.lower() == \"bye\":\n",
        "        print(\"Goodbye. Have a great day\")\n",
        "        break\n",
        "      else:\n",
        "        #A variable named user_inp_blob is a textblob that we use to extract nounphrases using the extractor above\n",
        "        userInpBlob = TextBlob(user_inp, np_extractor=extractor)\n",
        "        np = userInpBlob.noun_phrases\n",
        "        response = \"\"\n",
        "        if userInpBlob.polarity <= -0.5:\n",
        "          response = \"That doesn't sound good at all.\"\n",
        "        elif userInpBlob.polarity <= 0:\n",
        "          response = \"That's unfortunate.\"\n",
        "        elif userInpBlob.polarity <= 0.5:\n",
        "          response = \"Oh. That's nice\"\n",
        "        elif userInpBlob.polarity <= 1:\n",
        "          response = \"That's great!!\"\n",
        "    #If at least one noun phrase is detected,ask about that and pluralise it.\n",
        "        if len(np) != 0:\n",
        "          response = response + np[0].pluralize() + '?'\n",
        "        else:\n",
        "          response = response + \"Can you tell me more?\"\n",
        "\n",
        "\n",
        "        print(response)\n",
        "\n",
        "    print(\"It was nice talking to you. Goodbye!\")\n",
        "\n",
        "begin()\n",
        "#This isn't working so well."
      ],
      "metadata": {
        "id": "5jyb88fpl4Dk",
        "outputId": "513e62aa-45bc-4999-8c90-9f44ebb1979e",
        "colab": {
          "base_uri": "https://localhost:8080/"
        }
      },
      "execution_count": 15,
      "outputs": [
        {
          "output_type": "stream",
          "name": "stdout",
          "text": [
            "Hello there. \n",
            "I am Sean, a conversational bot.\n",
            "I am thrilled to meet you and get to know you.\n",
            "Feel free to end the conversation at any time by typing 'bye' .\n",
            "Hello there. How are you today?\n",
            "User: I am doing well.\n",
            "That's unfortunate.Can you tell me more?\n",
            "User: I am happy\n",
            "That's great!!Can you tell me more?\n",
            "User: I rode my bike today\n",
            "That's unfortunate.bike todays?\n",
            "User: I played with my dogs\n",
            "That's unfortunate.Can you tell me more?\n",
            "User: bye\n",
            "Goodbye. Have a great day\n",
            "It was nice talking to you. Goodbye!\n"
          ]
        }
      ]
    },
    {
      "cell_type": "code",
      "source": [],
      "metadata": {
        "id": "-gnwuKJ0aIsa"
      },
      "execution_count": null,
      "outputs": []
    }
  ]
}