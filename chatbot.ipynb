{
  "nbformat": 4,
  "nbformat_minor": 0,
  "metadata": {
    "colab": {
      "provenance": [],
      "authorship_tag": "ABX9TyOmrwXHmnNnBQs0qCFVu20i",
      "include_colab_link": true
    },
    "kernelspec": {
      "name": "python3",
      "display_name": "Python 3"
    },
    "language_info": {
      "name": "python"
    }
  },
  "cells": [
    {
      "cell_type": "markdown",
      "metadata": {
        "id": "view-in-github",
        "colab_type": "text"
      },
      "source": [
        "<a href=\"https://colab.research.google.com/github/Sedacoder/NLP/blob/main/chatbot.ipynb\" target=\"_parent\"><img src=\"https://colab.research.google.com/assets/colab-badge.svg\" alt=\"Open In Colab\"/></a>"
      ]
    },
    {
      "cell_type": "code",
      "execution_count": 6,
      "metadata": {
        "colab": {
          "base_uri": "https://localhost:8080/"
        },
        "id": "PMtiNkt-bG-3",
        "outputId": "ff664b78-7e72-4760-ccb1-5b17496bfdae"
      },
      "outputs": [
        {
          "output_type": "stream",
          "name": "stdout",
          "text": [
            "Hello there. \n",
            "I am Sean, a conversational bot.\n",
            "I am thrilled to meet you and get to know you.\n",
            "Feel free to end the conversation at any time by typing 'bye' .\n",
            "Let's talk!\n",
            "User: Hey\n",
            "How old are you?\n",
            "User: I am 16\n",
            "What do you hate doing?\n",
            "User: Bye\n",
            "Goodbye. Have a great day\n",
            "It was nice talking to you. Goodbye!\n"
          ]
        }
      ],
      "source": [
        "import random\n",
        "#Will enable my bot to select a random response among the ones I will give it.\n",
        "\n",
        "random_responses = [\"Hello there. My name is Sean. What's yours?\",\n",
        "                    \"How old are you?\",\n",
        "                    \"What do you like doing?\",\n",
        "                    \"What do you hate doing?\",\n",
        "                    \"What is your favorite food?\"]\n",
        "#The responses that will be given.\n",
        "#Intro\n",
        "print(\"Hello there. \")\n",
        "print(\"I am Sean, a conversational bot.\")\n",
        "print(\"I am thrilled to meet you and get to know you.\")\n",
        "print(\"Feel free to end the conversation at any time by typing 'bye' .\")\n",
        "print(\"Let's talk!\")\n",
        "\n",
        "while True:\n",
        "  #USER INPUT\n",
        "  user_inp = input(\"User: \")\n",
        "  if user_inp.lower() == \"bye\":\n",
        "    print(\"Goodbye. Have a great day\")\n",
        "    break\n",
        "  else:\n",
        "    response = random.choices(random_responses)[0]\n",
        "    print(response)\n",
        "\n",
        "print(\"It was nice talking to you. Goodbye!\")"
      ]
    },
    {
      "cell_type": "code",
      "source": [
        "pip install -U textblob\n",
        "python -m textblob.download_corpora\n"
      ],
      "metadata": {
        "id": "Xl5AREYmfBK2"
      },
      "execution_count": null,
      "outputs": []
    },
    {
      "cell_type": "code",
      "source": [
        "from textblob import TextBlob\n",
        "from textblob.np_extractors import ConllExtractor\n",
        "# import and create a Conll extractor to use later\n",
        "extractor = ConllExtractor()\n",
        ""
      ],
      "metadata": {
        "id": "QENlgFRlf1jJ"
      },
      "execution_count": null,
      "outputs": []
    },
    {
      "cell_type": "code",
      "source": [],
      "metadata": {
        "id": "5jyb88fpl4Dk"
      },
      "execution_count": null,
      "outputs": []
    }
  ]
}