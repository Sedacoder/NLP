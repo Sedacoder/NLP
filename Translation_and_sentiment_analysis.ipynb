{
  "nbformat": 4,
  "nbformat_minor": 0,
  "metadata": {
    "colab": {
      "provenance": [],
      "authorship_tag": "ABX9TyNbnRtDkdwpf/lnLAOysRyt",
      "include_colab_link": true
    },
    "kernelspec": {
      "name": "python3",
      "display_name": "Python 3"
    },
    "language_info": {
      "name": "python"
    }
  },
  "cells": [
    {
      "cell_type": "markdown",
      "metadata": {
        "id": "view-in-github",
        "colab_type": "text"
      },
      "source": [
        "<a href=\"https://colab.research.google.com/github/Sedacoder/NLP/blob/main/Translation_and_sentiment_analysis.ipynb\" target=\"_parent\"><img src=\"https://colab.research.google.com/assets/colab-badge.svg\" alt=\"Open In Colab\"/></a>"
      ]
    },
    {
      "cell_type": "code",
      "execution_count": 14,
      "metadata": {
        "colab": {
          "base_uri": "https://localhost:8080/"
        },
        "id": "VN2v_XDFdA2s",
        "outputId": "dc6ade76-6c38-455f-abaa-36b5ee6300ff"
      },
      "outputs": [
        {
          "output_type": "stream",
          "name": "stdout",
          "text": [
            "Requirement already satisfied: textblob in /usr/local/lib/python3.10/dist-packages (0.18.0.post0)\n",
            "Requirement already satisfied: nltk>=3.8 in /usr/local/lib/python3.10/dist-packages (from textblob) (3.8.1)\n",
            "Requirement already satisfied: click in /usr/local/lib/python3.10/dist-packages (from nltk>=3.8->textblob) (8.1.7)\n",
            "Requirement already satisfied: joblib in /usr/local/lib/python3.10/dist-packages (from nltk>=3.8->textblob) (1.4.0)\n",
            "Requirement already satisfied: regex>=2021.8.3 in /usr/local/lib/python3.10/dist-packages (from nltk>=3.8->textblob) (2023.12.25)\n",
            "Requirement already satisfied: tqdm in /usr/local/lib/python3.10/dist-packages (from nltk>=3.8->textblob) (4.66.2)\n",
            "[nltk_data] Downloading package brown to /root/nltk_data...\n",
            "[nltk_data]   Package brown is already up-to-date!\n",
            "[nltk_data] Downloading package punkt to /root/nltk_data...\n",
            "[nltk_data]   Package punkt is already up-to-date!\n",
            "[nltk_data] Downloading package wordnet to /root/nltk_data...\n",
            "[nltk_data]   Package wordnet is already up-to-date!\n",
            "[nltk_data] Downloading package averaged_perceptron_tagger to\n",
            "[nltk_data]     /root/nltk_data...\n",
            "[nltk_data]   Package averaged_perceptron_tagger is already up-to-\n",
            "[nltk_data]       date!\n",
            "[nltk_data] Downloading package conll2000 to /root/nltk_data...\n",
            "[nltk_data]   Package conll2000 is already up-to-date!\n",
            "[nltk_data] Downloading package movie_reviews to /root/nltk_data...\n",
            "[nltk_data]   Package movie_reviews is already up-to-date!\n",
            "Finished.\n"
          ]
        }
      ],
      "source": [
        "!pip install -U textblob\n",
        "!python -m textblob.download_corpora"
      ]
    },
    {
      "cell_type": "code",
      "source": [
        "from textblob import TextBlob\n",
        "\n",
        "trial = TextBlob(\"I am happy today\")\n",
        "print(trial.noun_phrases)\n",
        "again = TextBlob(\"Computers are important in modern society\")\n",
        "print(\"Noun phrases in again \" +str( again.noun_phrases))\n",
        "print(\"Sentiment for again: \" + str(again.sentiment))\n",
        "retry = TextBlob(\"Cats and dogs are always fun to play with but children sometimes hurt them\")\n",
        "print(\"Sentiment in retry: \" + str(retry.sentiment))"
      ],
      "metadata": {
        "colab": {
          "base_uri": "https://localhost:8080/"
        },
        "id": "8D7h4D_MdYHG",
        "outputId": "df8eaa7c-dd4a-4882-dca7-fdf9fee274a2"
      },
      "execution_count": 15,
      "outputs": [
        {
          "output_type": "stream",
          "name": "stdout",
          "text": [
            "[]\n",
            "Noun phrases in again ['computers', 'modern society']\n",
            "Sentiment for again: Sentiment(polarity=0.30000000000000004, subjectivity=0.65)\n",
            "Sentiment in retry: Sentiment(polarity=0.3, subjectivity=0.2)\n"
          ]
        }
      ]
    },
    {
      "cell_type": "code",
      "source": [
        "#I used Romeo and Juliet\n",
        "f = open(\"rj.txt\")\n",
        "file_contents = f.read()"
      ],
      "metadata": {
        "id": "hoj_QLv3ee5O"
      },
      "execution_count": 16,
      "outputs": []
    },
    {
      "cell_type": "code",
      "source": [
        "romeo_juliet = TextBlob(file_contents)\n",
        "positive_sentences = []\n",
        "negative_sentences = []"
      ],
      "metadata": {
        "id": "XOQgySS-r-po"
      },
      "execution_count": 17,
      "outputs": []
    },
    {
      "cell_type": "code",
      "source": [
        "for sentence in romeo_juliet.sentences:\n",
        "  if sentence.sentiment.polarity == 1:\n",
        "    positive_sentences.append(sentence)\n",
        "  if sentence.sentiment.polarity == -1:\n",
        "    negative_sentences.append(sentence)"
      ],
      "metadata": {
        "id": "GRfYqNw3sftK"
      },
      "execution_count": 18,
      "outputs": []
    },
    {
      "cell_type": "code",
      "source": [
        "print(\"The \" + str(len(positive_sentences)) + \" most positive sentences:\")\n",
        "for sentence in positive_sentences:\n",
        "    print(\"+ \" + str(sentence.replace(\"\\n\", \"\").replace(\"      \", \" \")))"
      ],
      "metadata": {
        "colab": {
          "base_uri": "https://localhost:8080/"
        },
        "id": "dFgChkantahh",
        "outputId": "cdc56a90-3518-4604-d2d2-0bbb3fcdfdd6"
      },
      "execution_count": 19,
      "outputs": [
        {
          "output_type": "stream",
          "name": "stdout",
          "text": [
            "The 8 most positive sentences:\n",
            "+ Your plantain leaf is excellent for that.\n",
            "+ Welcome, gentlemen!\n",
            "+ Away, be gone; the sport is at the best.\n",
            "+ I thought all for the best.\n",
            "+ O Tybalt, Tybalt, the best friend I had.\n",
            "+ Beautiful tyrant, fiend angelical,Dove-feather’d raven, wolvish-ravening lamb!\n",
            "+ Happily met, my lady and my wife!\n",
            "+ Ay, those attires are best.\n"
          ]
        }
      ]
    },
    {
      "cell_type": "code",
      "source": [
        "print(\"The \" + str(len(negative_sentences)) + \" most negative sentences:\")\n",
        "for sentence in negative_sentences:\n",
        "    print(\"- \" + str(sentence.replace(\"\\n\", \"\").replace(\"      \", \" \")))"
      ],
      "metadata": {
        "colab": {
          "base_uri": "https://localhost:8080/"
        },
        "id": "ZyxbCIx-tcJr",
        "outputId": "56d7d36f-da2c-43ed-c0dc-c084f430fc6a"
      },
      "execution_count": 20,
      "outputs": [
        {
          "output_type": "stream",
          "name": "stdout",
          "text": [
            "The 2 most negative sentences:\n",
            "- Yea, is the worst well?\n",
            "- There’s a fearful point!\n"
          ]
        }
      ]
    }
  ]
}